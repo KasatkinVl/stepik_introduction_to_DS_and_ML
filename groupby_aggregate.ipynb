{
 "cells": [
  {
   "cell_type": "code",
   "execution_count": 1,
   "metadata": {
    "collapsed": true
   },
   "outputs": [],
   "source": [
    "import pandas as pd\n",
    "import numpy as np"
   ]
  },
  {
   "cell_type": "code",
   "execution_count": 2,
   "outputs": [],
   "source": [
    "students_performance = \\\n",
    "    pd.read_csv('https://stepik.org/media/attachments/course/4852/StudentsPerformance.csv')"
   ],
   "metadata": {
    "collapsed": false,
    "pycharm": {
     "name": "#%%\n"
    }
   }
  },
  {
   "cell_type": "code",
   "execution_count": 11,
   "outputs": [
    {
     "data": {
      "text/plain": "     gender race/ethnicity parental_level_of_education         lunch  \\\n0    female        group B           bachelor's degree      standard   \n1    female        group C                some college      standard   \n2    female        group B             master's degree      standard   \n3      male        group A          associate's degree  free/reduced   \n4      male        group C                some college      standard   \n..      ...            ...                         ...           ...   \n995  female        group E             master's degree      standard   \n996    male        group C                 high school  free/reduced   \n997  female        group C                 high school  free/reduced   \n998  female        group D                some college      standard   \n999  female        group D                some college  free/reduced   \n\n    test_preparation_course  math_score  reading_score  writing_score  \n0                      none          72             72             74  \n1                 completed          69             90             88  \n2                      none          90             95             93  \n3                      none          47             57             44  \n4                      none          76             78             75  \n..                      ...         ...            ...            ...  \n995               completed          88             99             95  \n996                    none          62             55             55  \n997               completed          59             71             65  \n998               completed          68             78             77  \n999                    none          77             86             86  \n\n[1000 rows x 8 columns]",
      "text/html": "<div>\n<style scoped>\n    .dataframe tbody tr th:only-of-type {\n        vertical-align: middle;\n    }\n\n    .dataframe tbody tr th {\n        vertical-align: top;\n    }\n\n    .dataframe thead th {\n        text-align: right;\n    }\n</style>\n<table border=\"1\" class=\"dataframe\">\n  <thead>\n    <tr style=\"text-align: right;\">\n      <th></th>\n      <th>gender</th>\n      <th>race/ethnicity</th>\n      <th>parental_level_of_education</th>\n      <th>lunch</th>\n      <th>test_preparation_course</th>\n      <th>math_score</th>\n      <th>reading_score</th>\n      <th>writing_score</th>\n    </tr>\n  </thead>\n  <tbody>\n    <tr>\n      <th>0</th>\n      <td>female</td>\n      <td>group B</td>\n      <td>bachelor's degree</td>\n      <td>standard</td>\n      <td>none</td>\n      <td>72</td>\n      <td>72</td>\n      <td>74</td>\n    </tr>\n    <tr>\n      <th>1</th>\n      <td>female</td>\n      <td>group C</td>\n      <td>some college</td>\n      <td>standard</td>\n      <td>completed</td>\n      <td>69</td>\n      <td>90</td>\n      <td>88</td>\n    </tr>\n    <tr>\n      <th>2</th>\n      <td>female</td>\n      <td>group B</td>\n      <td>master's degree</td>\n      <td>standard</td>\n      <td>none</td>\n      <td>90</td>\n      <td>95</td>\n      <td>93</td>\n    </tr>\n    <tr>\n      <th>3</th>\n      <td>male</td>\n      <td>group A</td>\n      <td>associate's degree</td>\n      <td>free/reduced</td>\n      <td>none</td>\n      <td>47</td>\n      <td>57</td>\n      <td>44</td>\n    </tr>\n    <tr>\n      <th>4</th>\n      <td>male</td>\n      <td>group C</td>\n      <td>some college</td>\n      <td>standard</td>\n      <td>none</td>\n      <td>76</td>\n      <td>78</td>\n      <td>75</td>\n    </tr>\n    <tr>\n      <th>...</th>\n      <td>...</td>\n      <td>...</td>\n      <td>...</td>\n      <td>...</td>\n      <td>...</td>\n      <td>...</td>\n      <td>...</td>\n      <td>...</td>\n    </tr>\n    <tr>\n      <th>995</th>\n      <td>female</td>\n      <td>group E</td>\n      <td>master's degree</td>\n      <td>standard</td>\n      <td>completed</td>\n      <td>88</td>\n      <td>99</td>\n      <td>95</td>\n    </tr>\n    <tr>\n      <th>996</th>\n      <td>male</td>\n      <td>group C</td>\n      <td>high school</td>\n      <td>free/reduced</td>\n      <td>none</td>\n      <td>62</td>\n      <td>55</td>\n      <td>55</td>\n    </tr>\n    <tr>\n      <th>997</th>\n      <td>female</td>\n      <td>group C</td>\n      <td>high school</td>\n      <td>free/reduced</td>\n      <td>completed</td>\n      <td>59</td>\n      <td>71</td>\n      <td>65</td>\n    </tr>\n    <tr>\n      <th>998</th>\n      <td>female</td>\n      <td>group D</td>\n      <td>some college</td>\n      <td>standard</td>\n      <td>completed</td>\n      <td>68</td>\n      <td>78</td>\n      <td>77</td>\n    </tr>\n    <tr>\n      <th>999</th>\n      <td>female</td>\n      <td>group D</td>\n      <td>some college</td>\n      <td>free/reduced</td>\n      <td>none</td>\n      <td>77</td>\n      <td>86</td>\n      <td>86</td>\n    </tr>\n  </tbody>\n</table>\n<p>1000 rows × 8 columns</p>\n</div>"
     },
     "execution_count": 11,
     "metadata": {},
     "output_type": "execute_result"
    }
   ],
   "source": [
    "students_performance"
   ],
   "metadata": {
    "collapsed": false,
    "pycharm": {
     "name": "#%%\n"
    }
   }
  },
  {
   "cell_type": "code",
   "execution_count": 5,
   "outputs": [],
   "source": [
    "students_performance.columns = \\\n",
    "    students_performance.columns.str.replace(' ','_')"
   ],
   "metadata": {
    "collapsed": false,
    "pycharm": {
     "name": "#%%\n"
    }
   }
  },
  {
   "cell_type": "code",
   "execution_count": 6,
   "outputs": [
    {
     "data": {
      "text/plain": "   gender  math_score  reading_score  writing_score\n0  female   63.633205      72.608108      72.467181\n1    male   68.728216      65.473029      63.311203",
      "text/html": "<div>\n<style scoped>\n    .dataframe tbody tr th:only-of-type {\n        vertical-align: middle;\n    }\n\n    .dataframe tbody tr th {\n        vertical-align: top;\n    }\n\n    .dataframe thead th {\n        text-align: right;\n    }\n</style>\n<table border=\"1\" class=\"dataframe\">\n  <thead>\n    <tr style=\"text-align: right;\">\n      <th></th>\n      <th>gender</th>\n      <th>math_score</th>\n      <th>reading_score</th>\n      <th>writing_score</th>\n    </tr>\n  </thead>\n  <tbody>\n    <tr>\n      <th>0</th>\n      <td>female</td>\n      <td>63.633205</td>\n      <td>72.608108</td>\n      <td>72.467181</td>\n    </tr>\n    <tr>\n      <th>1</th>\n      <td>male</td>\n      <td>68.728216</td>\n      <td>65.473029</td>\n      <td>63.311203</td>\n    </tr>\n  </tbody>\n</table>\n</div>"
     },
     "execution_count": 6,
     "metadata": {},
     "output_type": "execute_result"
    }
   ],
   "source": [
    "students_performance.groupby('gender', as_index=False).mean()"
   ],
   "metadata": {
    "collapsed": false,
    "pycharm": {
     "name": "#%%\n"
    }
   }
  },
  {
   "cell_type": "code",
   "execution_count": 9,
   "outputs": [
    {
     "data": {
      "text/plain": "   gender  mean_math_score  mean_reading_score\n0  female        63.633205           72.608108\n1    male        68.728216           65.473029",
      "text/html": "<div>\n<style scoped>\n    .dataframe tbody tr th:only-of-type {\n        vertical-align: middle;\n    }\n\n    .dataframe tbody tr th {\n        vertical-align: top;\n    }\n\n    .dataframe thead th {\n        text-align: right;\n    }\n</style>\n<table border=\"1\" class=\"dataframe\">\n  <thead>\n    <tr style=\"text-align: right;\">\n      <th></th>\n      <th>gender</th>\n      <th>mean_math_score</th>\n      <th>mean_reading_score</th>\n    </tr>\n  </thead>\n  <tbody>\n    <tr>\n      <th>0</th>\n      <td>female</td>\n      <td>63.633205</td>\n      <td>72.608108</td>\n    </tr>\n    <tr>\n      <th>1</th>\n      <td>male</td>\n      <td>68.728216</td>\n      <td>65.473029</td>\n    </tr>\n  </tbody>\n</table>\n</div>"
     },
     "execution_count": 9,
     "metadata": {},
     "output_type": "execute_result"
    }
   ],
   "source": [
    "students_performance.groupby('gender', as_index=False)\\\n",
    "    .agg({'math_score':'mean','reading_score':'mean'})\\\n",
    "    .rename(columns={'math_score':'mean_math_score','reading_score':'mean_reading_score'})"
   ],
   "metadata": {
    "collapsed": false,
    "pycharm": {
     "name": "#%%\n"
    }
   }
  },
  {
   "cell_type": "code",
   "execution_count": 10,
   "outputs": [
    {
     "data": {
      "text/plain": "   gender math_score                  reading_score         \n                mean count        std           std min  max\n0  female  63.633205   518  15.491453     14.378245  17  100\n1    male  68.728216   482  14.356277     13.931832  23  100",
      "text/html": "<div>\n<style scoped>\n    .dataframe tbody tr th:only-of-type {\n        vertical-align: middle;\n    }\n\n    .dataframe tbody tr th {\n        vertical-align: top;\n    }\n\n    .dataframe thead tr th {\n        text-align: left;\n    }\n</style>\n<table border=\"1\" class=\"dataframe\">\n  <thead>\n    <tr>\n      <th></th>\n      <th>gender</th>\n      <th colspan=\"3\" halign=\"left\">math_score</th>\n      <th colspan=\"3\" halign=\"left\">reading_score</th>\n    </tr>\n    <tr>\n      <th></th>\n      <th></th>\n      <th>mean</th>\n      <th>count</th>\n      <th>std</th>\n      <th>std</th>\n      <th>min</th>\n      <th>max</th>\n    </tr>\n  </thead>\n  <tbody>\n    <tr>\n      <th>0</th>\n      <td>female</td>\n      <td>63.633205</td>\n      <td>518</td>\n      <td>15.491453</td>\n      <td>14.378245</td>\n      <td>17</td>\n      <td>100</td>\n    </tr>\n    <tr>\n      <th>1</th>\n      <td>male</td>\n      <td>68.728216</td>\n      <td>482</td>\n      <td>14.356277</td>\n      <td>13.931832</td>\n      <td>23</td>\n      <td>100</td>\n    </tr>\n  </tbody>\n</table>\n</div>"
     },
     "execution_count": 10,
     "metadata": {},
     "output_type": "execute_result"
    }
   ],
   "source": [
    "students_performance.groupby('gender', as_index=False)\\\n",
    "    .aggregate({'math_score': ['mean', 'count', 'std'],'reading_score': ['std', 'min', 'max']})"
   ],
   "metadata": {
    "collapsed": false,
    "pycharm": {
     "name": "#%%\n"
    }
   }
  },
  {
   "cell_type": "code",
   "execution_count": 12,
   "outputs": [
    {
     "data": {
      "text/plain": "   gender race/ethnicity  mean_math_score  mean_reading_score\n0  female        group A        58.527778           69.000000\n1  female        group B        61.403846           71.076923\n2  female        group C        62.033333           71.944444\n3  female        group D        65.248062           74.046512\n4  female        group E        70.811594           75.840580\n5    male        group A        63.735849           61.735849\n6    male        group B        65.930233           62.848837\n7    male        group C        67.611511           65.424460\n8    male        group D        69.413534           66.135338\n9    male        group E        76.746479           70.295775",
      "text/html": "<div>\n<style scoped>\n    .dataframe tbody tr th:only-of-type {\n        vertical-align: middle;\n    }\n\n    .dataframe tbody tr th {\n        vertical-align: top;\n    }\n\n    .dataframe thead th {\n        text-align: right;\n    }\n</style>\n<table border=\"1\" class=\"dataframe\">\n  <thead>\n    <tr style=\"text-align: right;\">\n      <th></th>\n      <th>gender</th>\n      <th>race/ethnicity</th>\n      <th>mean_math_score</th>\n      <th>mean_reading_score</th>\n    </tr>\n  </thead>\n  <tbody>\n    <tr>\n      <th>0</th>\n      <td>female</td>\n      <td>group A</td>\n      <td>58.527778</td>\n      <td>69.000000</td>\n    </tr>\n    <tr>\n      <th>1</th>\n      <td>female</td>\n      <td>group B</td>\n      <td>61.403846</td>\n      <td>71.076923</td>\n    </tr>\n    <tr>\n      <th>2</th>\n      <td>female</td>\n      <td>group C</td>\n      <td>62.033333</td>\n      <td>71.944444</td>\n    </tr>\n    <tr>\n      <th>3</th>\n      <td>female</td>\n      <td>group D</td>\n      <td>65.248062</td>\n      <td>74.046512</td>\n    </tr>\n    <tr>\n      <th>4</th>\n      <td>female</td>\n      <td>group E</td>\n      <td>70.811594</td>\n      <td>75.840580</td>\n    </tr>\n    <tr>\n      <th>5</th>\n      <td>male</td>\n      <td>group A</td>\n      <td>63.735849</td>\n      <td>61.735849</td>\n    </tr>\n    <tr>\n      <th>6</th>\n      <td>male</td>\n      <td>group B</td>\n      <td>65.930233</td>\n      <td>62.848837</td>\n    </tr>\n    <tr>\n      <th>7</th>\n      <td>male</td>\n      <td>group C</td>\n      <td>67.611511</td>\n      <td>65.424460</td>\n    </tr>\n    <tr>\n      <th>8</th>\n      <td>male</td>\n      <td>group D</td>\n      <td>69.413534</td>\n      <td>66.135338</td>\n    </tr>\n    <tr>\n      <th>9</th>\n      <td>male</td>\n      <td>group E</td>\n      <td>76.746479</td>\n      <td>70.295775</td>\n    </tr>\n  </tbody>\n</table>\n</div>"
     },
     "execution_count": 12,
     "metadata": {},
     "output_type": "execute_result"
    }
   ],
   "source": [
    "students_performance.groupby(['gender','race/ethnicity'], as_index=False)\\\n",
    "    .agg({'math_score':'mean','reading_score':'mean'})\\\n",
    "    .rename(columns={'math_score':'mean_math_score','reading_score':'mean_reading_score'})\n"
   ],
   "metadata": {
    "collapsed": false,
    "pycharm": {
     "name": "#%%\n"
    }
   }
  },
  {
   "cell_type": "code",
   "execution_count": 13,
   "outputs": [
    {
     "data": {
      "text/plain": "                       mean_math_score  mean_reading_score\ngender race/ethnicity                                     \nfemale group A               58.527778           69.000000\n       group B               61.403846           71.076923\n       group C               62.033333           71.944444\n       group D               65.248062           74.046512\n       group E               70.811594           75.840580\nmale   group A               63.735849           61.735849\n       group B               65.930233           62.848837\n       group C               67.611511           65.424460\n       group D               69.413534           66.135338\n       group E               76.746479           70.295775",
      "text/html": "<div>\n<style scoped>\n    .dataframe tbody tr th:only-of-type {\n        vertical-align: middle;\n    }\n\n    .dataframe tbody tr th {\n        vertical-align: top;\n    }\n\n    .dataframe thead th {\n        text-align: right;\n    }\n</style>\n<table border=\"1\" class=\"dataframe\">\n  <thead>\n    <tr style=\"text-align: right;\">\n      <th></th>\n      <th></th>\n      <th>mean_math_score</th>\n      <th>mean_reading_score</th>\n    </tr>\n    <tr>\n      <th>gender</th>\n      <th>race/ethnicity</th>\n      <th></th>\n      <th></th>\n    </tr>\n  </thead>\n  <tbody>\n    <tr>\n      <th rowspan=\"5\" valign=\"top\">female</th>\n      <th>group A</th>\n      <td>58.527778</td>\n      <td>69.000000</td>\n    </tr>\n    <tr>\n      <th>group B</th>\n      <td>61.403846</td>\n      <td>71.076923</td>\n    </tr>\n    <tr>\n      <th>group C</th>\n      <td>62.033333</td>\n      <td>71.944444</td>\n    </tr>\n    <tr>\n      <th>group D</th>\n      <td>65.248062</td>\n      <td>74.046512</td>\n    </tr>\n    <tr>\n      <th>group E</th>\n      <td>70.811594</td>\n      <td>75.840580</td>\n    </tr>\n    <tr>\n      <th rowspan=\"5\" valign=\"top\">male</th>\n      <th>group A</th>\n      <td>63.735849</td>\n      <td>61.735849</td>\n    </tr>\n    <tr>\n      <th>group B</th>\n      <td>65.930233</td>\n      <td>62.848837</td>\n    </tr>\n    <tr>\n      <th>group C</th>\n      <td>67.611511</td>\n      <td>65.424460</td>\n    </tr>\n    <tr>\n      <th>group D</th>\n      <td>69.413534</td>\n      <td>66.135338</td>\n    </tr>\n    <tr>\n      <th>group E</th>\n      <td>76.746479</td>\n      <td>70.295775</td>\n    </tr>\n  </tbody>\n</table>\n</div>"
     },
     "execution_count": 13,
     "metadata": {},
     "output_type": "execute_result"
    }
   ],
   "source": [
    "students_performance.groupby(['gender','race/ethnicity'])\\\n",
    "    .agg({'math_score':'mean','reading_score':'mean'})\\\n",
    "    .rename(columns={'math_score':'mean_math_score','reading_score':'mean_reading_score'})"
   ],
   "metadata": {
    "collapsed": false,
    "pycharm": {
     "name": "#%%\n"
    }
   }
  },
  {
   "cell_type": "code",
   "execution_count": 18,
   "outputs": [
    {
     "data": {
      "text/plain": "     gender race/ethnicity parental_level_of_education         lunch  \\\n149    male        group E          associate's degree  free/reduced   \n623    male        group A                some college      standard   \n625    male        group D                some college      standard   \n916    male        group E           bachelor's degree      standard   \n306    male        group E                some college      standard   \n451  female        group E                some college      standard   \n458  female        group E           bachelor's degree      standard   \n962  female        group E          associate's degree      standard   \n114  female        group E           bachelor's degree      standard   \n263  female        group E                 high school      standard   \n\n    test_preparation_course  math_score  reading_score  writing_score  \n149               completed         100            100             93  \n623               completed         100             96             86  \n625               completed         100             97             99  \n916               completed         100            100            100  \n306               completed          99             87             81  \n451                    none         100             92             97  \n458                    none         100            100            100  \n962                    none         100            100            100  \n114               completed          99            100            100  \n263                    none          99             93             90  ",
      "text/html": "<div>\n<style scoped>\n    .dataframe tbody tr th:only-of-type {\n        vertical-align: middle;\n    }\n\n    .dataframe tbody tr th {\n        vertical-align: top;\n    }\n\n    .dataframe thead th {\n        text-align: right;\n    }\n</style>\n<table border=\"1\" class=\"dataframe\">\n  <thead>\n    <tr style=\"text-align: right;\">\n      <th></th>\n      <th>gender</th>\n      <th>race/ethnicity</th>\n      <th>parental_level_of_education</th>\n      <th>lunch</th>\n      <th>test_preparation_course</th>\n      <th>math_score</th>\n      <th>reading_score</th>\n      <th>writing_score</th>\n    </tr>\n  </thead>\n  <tbody>\n    <tr>\n      <th>149</th>\n      <td>male</td>\n      <td>group E</td>\n      <td>associate's degree</td>\n      <td>free/reduced</td>\n      <td>completed</td>\n      <td>100</td>\n      <td>100</td>\n      <td>93</td>\n    </tr>\n    <tr>\n      <th>623</th>\n      <td>male</td>\n      <td>group A</td>\n      <td>some college</td>\n      <td>standard</td>\n      <td>completed</td>\n      <td>100</td>\n      <td>96</td>\n      <td>86</td>\n    </tr>\n    <tr>\n      <th>625</th>\n      <td>male</td>\n      <td>group D</td>\n      <td>some college</td>\n      <td>standard</td>\n      <td>completed</td>\n      <td>100</td>\n      <td>97</td>\n      <td>99</td>\n    </tr>\n    <tr>\n      <th>916</th>\n      <td>male</td>\n      <td>group E</td>\n      <td>bachelor's degree</td>\n      <td>standard</td>\n      <td>completed</td>\n      <td>100</td>\n      <td>100</td>\n      <td>100</td>\n    </tr>\n    <tr>\n      <th>306</th>\n      <td>male</td>\n      <td>group E</td>\n      <td>some college</td>\n      <td>standard</td>\n      <td>completed</td>\n      <td>99</td>\n      <td>87</td>\n      <td>81</td>\n    </tr>\n    <tr>\n      <th>451</th>\n      <td>female</td>\n      <td>group E</td>\n      <td>some college</td>\n      <td>standard</td>\n      <td>none</td>\n      <td>100</td>\n      <td>92</td>\n      <td>97</td>\n    </tr>\n    <tr>\n      <th>458</th>\n      <td>female</td>\n      <td>group E</td>\n      <td>bachelor's degree</td>\n      <td>standard</td>\n      <td>none</td>\n      <td>100</td>\n      <td>100</td>\n      <td>100</td>\n    </tr>\n    <tr>\n      <th>962</th>\n      <td>female</td>\n      <td>group E</td>\n      <td>associate's degree</td>\n      <td>standard</td>\n      <td>none</td>\n      <td>100</td>\n      <td>100</td>\n      <td>100</td>\n    </tr>\n    <tr>\n      <th>114</th>\n      <td>female</td>\n      <td>group E</td>\n      <td>bachelor's degree</td>\n      <td>standard</td>\n      <td>completed</td>\n      <td>99</td>\n      <td>100</td>\n      <td>100</td>\n    </tr>\n    <tr>\n      <th>263</th>\n      <td>female</td>\n      <td>group E</td>\n      <td>high school</td>\n      <td>standard</td>\n      <td>none</td>\n      <td>99</td>\n      <td>93</td>\n      <td>90</td>\n    </tr>\n  </tbody>\n</table>\n</div>"
     },
     "execution_count": 18,
     "metadata": {},
     "output_type": "execute_result"
    }
   ],
   "source": [
    "# Топ5 математиков юношей и девушек\n",
    "\n",
    "students_performance\\\n",
    "    .sort_values(['gender','math_score'], ascending=False)\\\n",
    "    .groupby('gender').head()"
   ],
   "metadata": {
    "collapsed": false,
    "pycharm": {
     "name": "#%%\n"
    }
   }
  },
  {
   "cell_type": "code",
   "execution_count": 19,
   "outputs": [
    {
     "data": {
      "text/plain": "     gender race/ethnicity parental_level_of_education         lunch  \\\n451  female        group E                some college      standard   \n458  female        group E           bachelor's degree      standard   \n962  female        group E          associate's degree      standard   \n114  female        group E           bachelor's degree      standard   \n263  female        group E                 high school      standard   \n..      ...            ...                         ...           ...   \n211    male        group C                some college  free/reduced   \n76     male        group E            some high school      standard   \n596    male        group B                 high school  free/reduced   \n327    male        group A                some college  free/reduced   \n91     male        group C                 high school  free/reduced   \n\n    test_preparation_course  math_score  reading_score  writing_score  \n451                    none         100             92             97  \n458                    none         100            100            100  \n962                    none         100            100            100  \n114               completed          99            100            100  \n263                    none          99             93             90  \n..                      ...         ...            ...            ...  \n211                    none          35             28             27  \n76                     none          30             26             22  \n596                    none          30             24             15  \n327                    none          28             23             19  \n91                     none          27             34             36  \n\n[1000 rows x 8 columns]",
      "text/html": "<div>\n<style scoped>\n    .dataframe tbody tr th:only-of-type {\n        vertical-align: middle;\n    }\n\n    .dataframe tbody tr th {\n        vertical-align: top;\n    }\n\n    .dataframe thead th {\n        text-align: right;\n    }\n</style>\n<table border=\"1\" class=\"dataframe\">\n  <thead>\n    <tr style=\"text-align: right;\">\n      <th></th>\n      <th>gender</th>\n      <th>race/ethnicity</th>\n      <th>parental_level_of_education</th>\n      <th>lunch</th>\n      <th>test_preparation_course</th>\n      <th>math_score</th>\n      <th>reading_score</th>\n      <th>writing_score</th>\n    </tr>\n  </thead>\n  <tbody>\n    <tr>\n      <th>451</th>\n      <td>female</td>\n      <td>group E</td>\n      <td>some college</td>\n      <td>standard</td>\n      <td>none</td>\n      <td>100</td>\n      <td>92</td>\n      <td>97</td>\n    </tr>\n    <tr>\n      <th>458</th>\n      <td>female</td>\n      <td>group E</td>\n      <td>bachelor's degree</td>\n      <td>standard</td>\n      <td>none</td>\n      <td>100</td>\n      <td>100</td>\n      <td>100</td>\n    </tr>\n    <tr>\n      <th>962</th>\n      <td>female</td>\n      <td>group E</td>\n      <td>associate's degree</td>\n      <td>standard</td>\n      <td>none</td>\n      <td>100</td>\n      <td>100</td>\n      <td>100</td>\n    </tr>\n    <tr>\n      <th>114</th>\n      <td>female</td>\n      <td>group E</td>\n      <td>bachelor's degree</td>\n      <td>standard</td>\n      <td>completed</td>\n      <td>99</td>\n      <td>100</td>\n      <td>100</td>\n    </tr>\n    <tr>\n      <th>263</th>\n      <td>female</td>\n      <td>group E</td>\n      <td>high school</td>\n      <td>standard</td>\n      <td>none</td>\n      <td>99</td>\n      <td>93</td>\n      <td>90</td>\n    </tr>\n    <tr>\n      <th>...</th>\n      <td>...</td>\n      <td>...</td>\n      <td>...</td>\n      <td>...</td>\n      <td>...</td>\n      <td>...</td>\n      <td>...</td>\n      <td>...</td>\n    </tr>\n    <tr>\n      <th>211</th>\n      <td>male</td>\n      <td>group C</td>\n      <td>some college</td>\n      <td>free/reduced</td>\n      <td>none</td>\n      <td>35</td>\n      <td>28</td>\n      <td>27</td>\n    </tr>\n    <tr>\n      <th>76</th>\n      <td>male</td>\n      <td>group E</td>\n      <td>some high school</td>\n      <td>standard</td>\n      <td>none</td>\n      <td>30</td>\n      <td>26</td>\n      <td>22</td>\n    </tr>\n    <tr>\n      <th>596</th>\n      <td>male</td>\n      <td>group B</td>\n      <td>high school</td>\n      <td>free/reduced</td>\n      <td>none</td>\n      <td>30</td>\n      <td>24</td>\n      <td>15</td>\n    </tr>\n    <tr>\n      <th>327</th>\n      <td>male</td>\n      <td>group A</td>\n      <td>some college</td>\n      <td>free/reduced</td>\n      <td>none</td>\n      <td>28</td>\n      <td>23</td>\n      <td>19</td>\n    </tr>\n    <tr>\n      <th>91</th>\n      <td>male</td>\n      <td>group C</td>\n      <td>high school</td>\n      <td>free/reduced</td>\n      <td>none</td>\n      <td>27</td>\n      <td>34</td>\n      <td>36</td>\n    </tr>\n  </tbody>\n</table>\n<p>1000 rows × 8 columns</p>\n</div>"
     },
     "execution_count": 19,
     "metadata": {},
     "output_type": "execute_result"
    }
   ],
   "source": [
    "students_performance\\\n",
    "    .sort_values(['gender', 'math_score'], ascending=[True, False])"
   ],
   "metadata": {
    "collapsed": false,
    "pycharm": {
     "name": "#%%\n"
    }
   }
  },
  {
   "cell_type": "code",
   "execution_count": 20,
   "outputs": [],
   "source": [
    "students_performance['total_score'] = (students_performance.math_score\n",
    "    + students_performance.reading_score + students_performance.writing_score)"
   ],
   "metadata": {
    "collapsed": false,
    "pycharm": {
     "name": "#%%\n"
    }
   }
  },
  {
   "cell_type": "code",
   "execution_count": 21,
   "outputs": [
    {
     "data": {
      "text/plain": "   gender race/ethnicity parental_level_of_education         lunch  \\\n0  female        group B           bachelor's degree      standard   \n1  female        group C                some college      standard   \n2  female        group B             master's degree      standard   \n3    male        group A          associate's degree  free/reduced   \n4    male        group C                some college      standard   \n\n  test_preparation_course  math_score  reading_score  writing_score  \\\n0                    none          72             72             74   \n1               completed          69             90             88   \n2                    none          90             95             93   \n3                    none          47             57             44   \n4                    none          76             78             75   \n\n   total_score  \n0          218  \n1          247  \n2          278  \n3          148  \n4          229  ",
      "text/html": "<div>\n<style scoped>\n    .dataframe tbody tr th:only-of-type {\n        vertical-align: middle;\n    }\n\n    .dataframe tbody tr th {\n        vertical-align: top;\n    }\n\n    .dataframe thead th {\n        text-align: right;\n    }\n</style>\n<table border=\"1\" class=\"dataframe\">\n  <thead>\n    <tr style=\"text-align: right;\">\n      <th></th>\n      <th>gender</th>\n      <th>race/ethnicity</th>\n      <th>parental_level_of_education</th>\n      <th>lunch</th>\n      <th>test_preparation_course</th>\n      <th>math_score</th>\n      <th>reading_score</th>\n      <th>writing_score</th>\n      <th>total_score</th>\n    </tr>\n  </thead>\n  <tbody>\n    <tr>\n      <th>0</th>\n      <td>female</td>\n      <td>group B</td>\n      <td>bachelor's degree</td>\n      <td>standard</td>\n      <td>none</td>\n      <td>72</td>\n      <td>72</td>\n      <td>74</td>\n      <td>218</td>\n    </tr>\n    <tr>\n      <th>1</th>\n      <td>female</td>\n      <td>group C</td>\n      <td>some college</td>\n      <td>standard</td>\n      <td>completed</td>\n      <td>69</td>\n      <td>90</td>\n      <td>88</td>\n      <td>247</td>\n    </tr>\n    <tr>\n      <th>2</th>\n      <td>female</td>\n      <td>group B</td>\n      <td>master's degree</td>\n      <td>standard</td>\n      <td>none</td>\n      <td>90</td>\n      <td>95</td>\n      <td>93</td>\n      <td>278</td>\n    </tr>\n    <tr>\n      <th>3</th>\n      <td>male</td>\n      <td>group A</td>\n      <td>associate's degree</td>\n      <td>free/reduced</td>\n      <td>none</td>\n      <td>47</td>\n      <td>57</td>\n      <td>44</td>\n      <td>148</td>\n    </tr>\n    <tr>\n      <th>4</th>\n      <td>male</td>\n      <td>group C</td>\n      <td>some college</td>\n      <td>standard</td>\n      <td>none</td>\n      <td>76</td>\n      <td>78</td>\n      <td>75</td>\n      <td>229</td>\n    </tr>\n  </tbody>\n</table>\n</div>"
     },
     "execution_count": 21,
     "metadata": {},
     "output_type": "execute_result"
    }
   ],
   "source": [
    "students_performance.head()"
   ],
   "metadata": {
    "collapsed": false,
    "pycharm": {
     "name": "#%%\n"
    }
   }
  },
  {
   "cell_type": "code",
   "execution_count": 22,
   "outputs": [],
   "source": [
    "students_performance = students_performance\\\n",
    "    .assign(total_score_log = np.log(students_performance.total_score))"
   ],
   "metadata": {
    "collapsed": false,
    "pycharm": {
     "name": "#%%\n"
    }
   }
  },
  {
   "cell_type": "code",
   "execution_count": 24,
   "outputs": [
    {
     "data": {
      "text/plain": "   gender race/ethnicity parental_level_of_education         lunch  \\\n0  female        group B           bachelor's degree      standard   \n1  female        group C                some college      standard   \n2  female        group B             master's degree      standard   \n3    male        group A          associate's degree  free/reduced   \n4    male        group C                some college      standard   \n\n  test_preparation_course  math_score  reading_score  writing_score  \\\n0                    none          72             72             74   \n1               completed          69             90             88   \n2                    none          90             95             93   \n3                    none          47             57             44   \n4                    none          76             78             75   \n\n   total_score  total_score_log  \n0          218         5.384495  \n1          247         5.509388  \n2          278         5.627621  \n3          148         4.997212  \n4          229         5.433722  ",
      "text/html": "<div>\n<style scoped>\n    .dataframe tbody tr th:only-of-type {\n        vertical-align: middle;\n    }\n\n    .dataframe tbody tr th {\n        vertical-align: top;\n    }\n\n    .dataframe thead th {\n        text-align: right;\n    }\n</style>\n<table border=\"1\" class=\"dataframe\">\n  <thead>\n    <tr style=\"text-align: right;\">\n      <th></th>\n      <th>gender</th>\n      <th>race/ethnicity</th>\n      <th>parental_level_of_education</th>\n      <th>lunch</th>\n      <th>test_preparation_course</th>\n      <th>math_score</th>\n      <th>reading_score</th>\n      <th>writing_score</th>\n      <th>total_score</th>\n      <th>total_score_log</th>\n    </tr>\n  </thead>\n  <tbody>\n    <tr>\n      <th>0</th>\n      <td>female</td>\n      <td>group B</td>\n      <td>bachelor's degree</td>\n      <td>standard</td>\n      <td>none</td>\n      <td>72</td>\n      <td>72</td>\n      <td>74</td>\n      <td>218</td>\n      <td>5.384495</td>\n    </tr>\n    <tr>\n      <th>1</th>\n      <td>female</td>\n      <td>group C</td>\n      <td>some college</td>\n      <td>standard</td>\n      <td>completed</td>\n      <td>69</td>\n      <td>90</td>\n      <td>88</td>\n      <td>247</td>\n      <td>5.509388</td>\n    </tr>\n    <tr>\n      <th>2</th>\n      <td>female</td>\n      <td>group B</td>\n      <td>master's degree</td>\n      <td>standard</td>\n      <td>none</td>\n      <td>90</td>\n      <td>95</td>\n      <td>93</td>\n      <td>278</td>\n      <td>5.627621</td>\n    </tr>\n    <tr>\n      <th>3</th>\n      <td>male</td>\n      <td>group A</td>\n      <td>associate's degree</td>\n      <td>free/reduced</td>\n      <td>none</td>\n      <td>47</td>\n      <td>57</td>\n      <td>44</td>\n      <td>148</td>\n      <td>4.997212</td>\n    </tr>\n    <tr>\n      <th>4</th>\n      <td>male</td>\n      <td>group C</td>\n      <td>some college</td>\n      <td>standard</td>\n      <td>none</td>\n      <td>76</td>\n      <td>78</td>\n      <td>75</td>\n      <td>229</td>\n      <td>5.433722</td>\n    </tr>\n  </tbody>\n</table>\n</div>"
     },
     "execution_count": 24,
     "metadata": {},
     "output_type": "execute_result"
    }
   ],
   "source": [
    "students_performance.head()"
   ],
   "metadata": {
    "collapsed": false,
    "pycharm": {
     "name": "#%%\n"
    }
   }
  },
  {
   "cell_type": "code",
   "execution_count": 25,
   "outputs": [
    {
     "data": {
      "text/plain": "     gender race/ethnicity parental_level_of_education         lunch  \\\n0    female        group B           bachelor's degree      standard   \n1    female        group C                some college      standard   \n2    female        group B             master's degree      standard   \n3      male        group A          associate's degree  free/reduced   \n4      male        group C                some college      standard   \n..      ...            ...                         ...           ...   \n995  female        group E             master's degree      standard   \n996    male        group C                 high school  free/reduced   \n997  female        group C                 high school  free/reduced   \n998  female        group D                some college      standard   \n999  female        group D                some college  free/reduced   \n\n    test_preparation_course  math_score  reading_score  writing_score  \\\n0                      none          72             72             74   \n1                 completed          69             90             88   \n2                      none          90             95             93   \n3                      none          47             57             44   \n4                      none          76             78             75   \n..                      ...         ...            ...            ...   \n995               completed          88             99             95   \n996                    none          62             55             55   \n997               completed          59             71             65   \n998               completed          68             78             77   \n999                    none          77             86             86   \n\n     total_score_log  \n0           5.384495  \n1           5.509388  \n2           5.627621  \n3           4.997212  \n4           5.433722  \n..               ...  \n995         5.641907  \n996         5.147494  \n997         5.273000  \n998         5.407172  \n999         5.517453  \n\n[1000 rows x 9 columns]",
      "text/html": "<div>\n<style scoped>\n    .dataframe tbody tr th:only-of-type {\n        vertical-align: middle;\n    }\n\n    .dataframe tbody tr th {\n        vertical-align: top;\n    }\n\n    .dataframe thead th {\n        text-align: right;\n    }\n</style>\n<table border=\"1\" class=\"dataframe\">\n  <thead>\n    <tr style=\"text-align: right;\">\n      <th></th>\n      <th>gender</th>\n      <th>race/ethnicity</th>\n      <th>parental_level_of_education</th>\n      <th>lunch</th>\n      <th>test_preparation_course</th>\n      <th>math_score</th>\n      <th>reading_score</th>\n      <th>writing_score</th>\n      <th>total_score_log</th>\n    </tr>\n  </thead>\n  <tbody>\n    <tr>\n      <th>0</th>\n      <td>female</td>\n      <td>group B</td>\n      <td>bachelor's degree</td>\n      <td>standard</td>\n      <td>none</td>\n      <td>72</td>\n      <td>72</td>\n      <td>74</td>\n      <td>5.384495</td>\n    </tr>\n    <tr>\n      <th>1</th>\n      <td>female</td>\n      <td>group C</td>\n      <td>some college</td>\n      <td>standard</td>\n      <td>completed</td>\n      <td>69</td>\n      <td>90</td>\n      <td>88</td>\n      <td>5.509388</td>\n    </tr>\n    <tr>\n      <th>2</th>\n      <td>female</td>\n      <td>group B</td>\n      <td>master's degree</td>\n      <td>standard</td>\n      <td>none</td>\n      <td>90</td>\n      <td>95</td>\n      <td>93</td>\n      <td>5.627621</td>\n    </tr>\n    <tr>\n      <th>3</th>\n      <td>male</td>\n      <td>group A</td>\n      <td>associate's degree</td>\n      <td>free/reduced</td>\n      <td>none</td>\n      <td>47</td>\n      <td>57</td>\n      <td>44</td>\n      <td>4.997212</td>\n    </tr>\n    <tr>\n      <th>4</th>\n      <td>male</td>\n      <td>group C</td>\n      <td>some college</td>\n      <td>standard</td>\n      <td>none</td>\n      <td>76</td>\n      <td>78</td>\n      <td>75</td>\n      <td>5.433722</td>\n    </tr>\n    <tr>\n      <th>...</th>\n      <td>...</td>\n      <td>...</td>\n      <td>...</td>\n      <td>...</td>\n      <td>...</td>\n      <td>...</td>\n      <td>...</td>\n      <td>...</td>\n      <td>...</td>\n    </tr>\n    <tr>\n      <th>995</th>\n      <td>female</td>\n      <td>group E</td>\n      <td>master's degree</td>\n      <td>standard</td>\n      <td>completed</td>\n      <td>88</td>\n      <td>99</td>\n      <td>95</td>\n      <td>5.641907</td>\n    </tr>\n    <tr>\n      <th>996</th>\n      <td>male</td>\n      <td>group C</td>\n      <td>high school</td>\n      <td>free/reduced</td>\n      <td>none</td>\n      <td>62</td>\n      <td>55</td>\n      <td>55</td>\n      <td>5.147494</td>\n    </tr>\n    <tr>\n      <th>997</th>\n      <td>female</td>\n      <td>group C</td>\n      <td>high school</td>\n      <td>free/reduced</td>\n      <td>completed</td>\n      <td>59</td>\n      <td>71</td>\n      <td>65</td>\n      <td>5.273000</td>\n    </tr>\n    <tr>\n      <th>998</th>\n      <td>female</td>\n      <td>group D</td>\n      <td>some college</td>\n      <td>standard</td>\n      <td>completed</td>\n      <td>68</td>\n      <td>78</td>\n      <td>77</td>\n      <td>5.407172</td>\n    </tr>\n    <tr>\n      <th>999</th>\n      <td>female</td>\n      <td>group D</td>\n      <td>some college</td>\n      <td>free/reduced</td>\n      <td>none</td>\n      <td>77</td>\n      <td>86</td>\n      <td>86</td>\n      <td>5.517453</td>\n    </tr>\n  </tbody>\n</table>\n<p>1000 rows × 9 columns</p>\n</div>"
     },
     "execution_count": 25,
     "metadata": {},
     "output_type": "execute_result"
    }
   ],
   "source": [
    "students_performance.drop(['total_score'], axis=1)"
   ],
   "metadata": {
    "collapsed": false,
    "pycharm": {
     "name": "#%%\n"
    }
   }
  },
  {
   "cell_type": "code",
   "execution_count": 27,
   "outputs": [
    {
     "data": {
      "text/plain": "0      441.384495\n1      499.509388\n2      561.627621\n3      300.997212\n4      463.433722\n          ...    \n995    569.641907\n996    349.147494\n997    395.273000\n998    451.407172\n999    503.517453\nLength: 1000, dtype: float64"
     },
     "execution_count": 27,
     "metadata": {},
     "output_type": "execute_result"
    }
   ],
   "source": [
    "# Сумма всех score построчно\n",
    "\n",
    "students_performance.filter(like = 'score').sum(axis=1)"
   ],
   "metadata": {
    "collapsed": false,
    "pycharm": {
     "name": "#%%\n"
    }
   }
  },
  {
   "cell_type": "code",
   "execution_count": null,
   "outputs": [],
   "source": [
    "# ДЗ"
   ],
   "metadata": {
    "collapsed": false,
    "pycharm": {
     "name": "#%%\n"
    }
   }
  },
  {
   "cell_type": "code",
   "execution_count": 28,
   "outputs": [
    {
     "data": {
      "text/plain": "   legs\n0    11\n2    95\n4     7\n6     3\n8     1",
      "text/html": "<div>\n<style scoped>\n    .dataframe tbody tr th:only-of-type {\n        vertical-align: middle;\n    }\n\n    .dataframe tbody tr th {\n        vertical-align: top;\n    }\n\n    .dataframe thead th {\n        text-align: right;\n    }\n</style>\n<table border=\"1\" class=\"dataframe\">\n  <thead>\n    <tr style=\"text-align: right;\">\n      <th></th>\n      <th>legs</th>\n    </tr>\n  </thead>\n  <tbody>\n    <tr>\n      <th>0</th>\n      <td>11</td>\n    </tr>\n    <tr>\n      <th>2</th>\n      <td>95</td>\n    </tr>\n    <tr>\n      <th>4</th>\n      <td>7</td>\n    </tr>\n    <tr>\n      <th>6</th>\n      <td>3</td>\n    </tr>\n    <tr>\n      <th>8</th>\n      <td>1</td>\n    </tr>\n  </tbody>\n</table>\n</div>"
     },
     "execution_count": 28,
     "metadata": {},
     "output_type": "execute_result"
    }
   ],
   "source": [
    "# Пересчитаем число ног у героев игры Dota2\n",
    "dh = pd.read_csv('https://stepik.org/media/attachments/course/4852/dota_hero_stats.csv')\n",
    "dh.aggregate({'legs': 'value_counts'}).sort_index()"
   ],
   "metadata": {
    "collapsed": false,
    "pycharm": {
     "name": "#%%\n"
    }
   }
  },
  {
   "cell_type": "code",
   "execution_count": 29,
   "outputs": [
    {
     "data": {
      "text/plain": "2    95\n0    11\n4     7\n6     3\n8     1\nName: legs, dtype: int64"
     },
     "execution_count": 29,
     "metadata": {},
     "output_type": "execute_result"
    }
   ],
   "source": [
    "dh['legs'].value_counts()\n"
   ],
   "metadata": {
    "collapsed": false,
    "pycharm": {
     "name": "#%%\n"
    }
   }
  },
  {
   "cell_type": "code",
   "execution_count": null,
   "outputs": [],
   "source": [
    "# У кого из больше средний заработок в различных категориях"
   ],
   "metadata": {
    "collapsed": false,
    "pycharm": {
     "name": "#%%\n"
    }
   }
  },
  {
   "cell_type": "code",
   "execution_count": 30,
   "outputs": [],
   "source": [
    "accountancy = pd.read_csv('https://stepik.org/media/attachments/course/4852/accountancy.csv')\n"
   ],
   "metadata": {
    "collapsed": false,
    "pycharm": {
     "name": "#%%\n"
    }
   }
  },
  {
   "cell_type": "code",
   "execution_count": 31,
   "outputs": [
    {
     "data": {
      "text/plain": "   Type Executor      Salary\n1     A     Pupa  160.833333\n2     B    Loopa  145.166667\n4     C    Loopa  154.333333\n7     D     Pupa  146.500000\n8     E    Loopa  164.000000\n10    F    Loopa  238.000000",
      "text/html": "<div>\n<style scoped>\n    .dataframe tbody tr th:only-of-type {\n        vertical-align: middle;\n    }\n\n    .dataframe tbody tr th {\n        vertical-align: top;\n    }\n\n    .dataframe thead th {\n        text-align: right;\n    }\n</style>\n<table border=\"1\" class=\"dataframe\">\n  <thead>\n    <tr style=\"text-align: right;\">\n      <th></th>\n      <th>Type</th>\n      <th>Executor</th>\n      <th>Salary</th>\n    </tr>\n  </thead>\n  <tbody>\n    <tr>\n      <th>1</th>\n      <td>A</td>\n      <td>Pupa</td>\n      <td>160.833333</td>\n    </tr>\n    <tr>\n      <th>2</th>\n      <td>B</td>\n      <td>Loopa</td>\n      <td>145.166667</td>\n    </tr>\n    <tr>\n      <th>4</th>\n      <td>C</td>\n      <td>Loopa</td>\n      <td>154.333333</td>\n    </tr>\n    <tr>\n      <th>7</th>\n      <td>D</td>\n      <td>Pupa</td>\n      <td>146.500000</td>\n    </tr>\n    <tr>\n      <th>8</th>\n      <td>E</td>\n      <td>Loopa</td>\n      <td>164.000000</td>\n    </tr>\n    <tr>\n      <th>10</th>\n      <td>F</td>\n      <td>Loopa</td>\n      <td>238.000000</td>\n    </tr>\n  </tbody>\n</table>\n</div>"
     },
     "execution_count": 31,
     "metadata": {},
     "output_type": "execute_result"
    }
   ],
   "source": [
    "accountancy.drop('Unnamed: 0', axis=1) \\\n",
    "        .groupby(['Type', 'Executor'], as_index=False) \\\n",
    "        .mean() \\\n",
    "        .sort_values(['Type', 'Salary'], ascending=[True, False]) \\\n",
    "        .groupby('Type') \\\n",
    "        .head(1)"
   ],
   "metadata": {
    "collapsed": false,
    "pycharm": {
     "name": "#%%\n"
    }
   }
  },
  {
   "cell_type": "code",
   "execution_count": null,
   "outputs": [],
   "source": [
    "# Сгруппируем по колонкам attack_type и primary_attr\n",
    "# и выберем самый распространённый набор характеристик."
   ],
   "metadata": {
    "collapsed": false,
    "pycharm": {
     "name": "#%%\n"
    }
   }
  },
  {
   "cell_type": "code",
   "execution_count": 32,
   "outputs": [
    {
     "data": {
      "text/plain": "  attack_type primary_attr\n0      Ranged          int",
      "text/html": "<div>\n<style scoped>\n    .dataframe tbody tr th:only-of-type {\n        vertical-align: middle;\n    }\n\n    .dataframe tbody tr th {\n        vertical-align: top;\n    }\n\n    .dataframe thead th {\n        text-align: right;\n    }\n</style>\n<table border=\"1\" class=\"dataframe\">\n  <thead>\n    <tr style=\"text-align: right;\">\n      <th></th>\n      <th>attack_type</th>\n      <th>primary_attr</th>\n    </tr>\n  </thead>\n  <tbody>\n    <tr>\n      <th>0</th>\n      <td>Ranged</td>\n      <td>int</td>\n    </tr>\n  </tbody>\n</table>\n</div>"
     },
     "execution_count": 32,
     "metadata": {},
     "output_type": "execute_result"
    }
   ],
   "source": [
    "dh.filter(items=['attack_type','primary_attr']).mode()"
   ],
   "metadata": {
    "collapsed": false,
    "pycharm": {
     "name": "#%%\n"
    }
   }
  },
  {
   "cell_type": "code",
   "execution_count": null,
   "outputs": [],
   "source": [
    "# Средняя концентрация каждого из веществ в каждом из родов"
   ],
   "metadata": {
    "collapsed": false,
    "pycharm": {
     "name": "#%%\n"
    }
   }
  },
  {
   "cell_type": "code",
   "execution_count": 38,
   "outputs": [],
   "source": [
    "algae = pd.read_csv('http://stepik.org/media/attachments/course/4852/algae.csv')\n"
   ],
   "metadata": {
    "collapsed": false,
    "pycharm": {
     "name": "#%%\n"
    }
   }
  },
  {
   "cell_type": "code",
   "execution_count": 39,
   "outputs": [],
   "source": [
    "mean_concentrations = algae.groupby('genus').mean()"
   ],
   "metadata": {
    "collapsed": false,
    "pycharm": {
     "name": "#%%\n"
    }
   }
  },
  {
   "cell_type": "code",
   "execution_count": 40,
   "outputs": [
    {
     "data": {
      "text/plain": "              sucrose    alanin   citrate   glucose  oleic_acid\ngenus                                                          \nAscophyllum  6.825467  0.875429  5.253527  3.414961    2.432526\nCladophora   4.008792  3.997055  5.288311  2.800276    2.263472\nFucus        4.355112  3.566411  4.214878  2.814803    3.367647\nPalmaria     0.704580  3.176440  5.573905  3.242090    2.245538\nSaccharina   4.183596  3.524207  3.346710  4.980594    4.487252",
      "text/html": "<div>\n<style scoped>\n    .dataframe tbody tr th:only-of-type {\n        vertical-align: middle;\n    }\n\n    .dataframe tbody tr th {\n        vertical-align: top;\n    }\n\n    .dataframe thead th {\n        text-align: right;\n    }\n</style>\n<table border=\"1\" class=\"dataframe\">\n  <thead>\n    <tr style=\"text-align: right;\">\n      <th></th>\n      <th>sucrose</th>\n      <th>alanin</th>\n      <th>citrate</th>\n      <th>glucose</th>\n      <th>oleic_acid</th>\n    </tr>\n    <tr>\n      <th>genus</th>\n      <th></th>\n      <th></th>\n      <th></th>\n      <th></th>\n      <th></th>\n    </tr>\n  </thead>\n  <tbody>\n    <tr>\n      <th>Ascophyllum</th>\n      <td>6.825467</td>\n      <td>0.875429</td>\n      <td>5.253527</td>\n      <td>3.414961</td>\n      <td>2.432526</td>\n    </tr>\n    <tr>\n      <th>Cladophora</th>\n      <td>4.008792</td>\n      <td>3.997055</td>\n      <td>5.288311</td>\n      <td>2.800276</td>\n      <td>2.263472</td>\n    </tr>\n    <tr>\n      <th>Fucus</th>\n      <td>4.355112</td>\n      <td>3.566411</td>\n      <td>4.214878</td>\n      <td>2.814803</td>\n      <td>3.367647</td>\n    </tr>\n    <tr>\n      <th>Palmaria</th>\n      <td>0.704580</td>\n      <td>3.176440</td>\n      <td>5.573905</td>\n      <td>3.242090</td>\n      <td>2.245538</td>\n    </tr>\n    <tr>\n      <th>Saccharina</th>\n      <td>4.183596</td>\n      <td>3.524207</td>\n      <td>3.346710</td>\n      <td>4.980594</td>\n      <td>4.487252</td>\n    </tr>\n  </tbody>\n</table>\n</div>"
     },
     "execution_count": 40,
     "metadata": {},
     "output_type": "execute_result"
    }
   ],
   "source": [
    "mean_concentrations"
   ],
   "metadata": {
    "collapsed": false,
    "pycharm": {
     "name": "#%%\n"
    }
   }
  },
  {
   "cell_type": "code",
   "execution_count": null,
   "outputs": [],
   "source": [
    "# минимальная, средняя и максимальная концентрации аланина (alanin)\n",
    "# среди видов рода Fucus"
   ],
   "metadata": {
    "collapsed": false,
    "pycharm": {
     "name": "#%%\n"
    }
   }
  },
  {
   "cell_type": "code",
   "execution_count": 43,
   "outputs": [
    {
     "data": {
      "text/plain": "min     0.35\nmean    3.57\nmax     6.64\nName: Fucus, dtype: float64"
     },
     "execution_count": 43,
     "metadata": {},
     "output_type": "execute_result"
    }
   ],
   "source": [
    "algae.groupby('genus').agg(['min', 'mean', 'max']) \\\n",
    ".loc['Fucus', 'alanin'].round(2)"
   ],
   "metadata": {
    "collapsed": false,
    "pycharm": {
     "name": "#%%\n"
    }
   }
  },
  {
   "cell_type": "code",
   "execution_count": 45,
   "outputs": [
    {
     "data": {
      "text/plain": "'0.35 3.57 6.64'"
     },
     "execution_count": 45,
     "metadata": {},
     "output_type": "execute_result"
    }
   ],
   "source": [
    "# или\n",
    "'{min} {mean} {max}'.format(\n",
    "    **algae.loc[algae.genus == 'Fucus', 'alanin'] \\\n",
    "        .agg(['min', 'mean', 'max']) \\\n",
    "        .round(2)\n",
    ")"
   ],
   "metadata": {
    "collapsed": false,
    "pycharm": {
     "name": "#%%\n"
    }
   }
  },
  {
   "cell_type": "code",
   "execution_count": 48,
   "outputs": [
    {
     "data": {
      "text/plain": "   group  citrate_variance  sucrose_range  count_of_types\n0  brown              5.47           5.19               6\n1  green              3.95           3.26               3\n2    red               NaN           0.00               1",
      "text/html": "<div>\n<style scoped>\n    .dataframe tbody tr th:only-of-type {\n        vertical-align: middle;\n    }\n\n    .dataframe tbody tr th {\n        vertical-align: top;\n    }\n\n    .dataframe thead th {\n        text-align: right;\n    }\n</style>\n<table border=\"1\" class=\"dataframe\">\n  <thead>\n    <tr style=\"text-align: right;\">\n      <th></th>\n      <th>group</th>\n      <th>citrate_variance</th>\n      <th>sucrose_range</th>\n      <th>count_of_types</th>\n    </tr>\n  </thead>\n  <tbody>\n    <tr>\n      <th>0</th>\n      <td>brown</td>\n      <td>5.47</td>\n      <td>5.19</td>\n      <td>6</td>\n    </tr>\n    <tr>\n      <th>1</th>\n      <td>green</td>\n      <td>3.95</td>\n      <td>3.26</td>\n      <td>3</td>\n    </tr>\n    <tr>\n      <th>2</th>\n      <td>red</td>\n      <td>NaN</td>\n      <td>0.00</td>\n      <td>1</td>\n    </tr>\n  </tbody>\n</table>\n</div>"
     },
     "execution_count": 48,
     "metadata": {},
     "output_type": "execute_result"
    }
   ],
   "source": [
    "algae.groupby('group', as_index=False) \\\n",
    "    .agg({'citrate': 'var', 'sucrose': lambda x: x.max() - x.min(), 'glucose': 'count'}) \\\n",
    "    .round(2)\\\n",
    "    .rename(columns={'citrate':'citrate_variance', 'sucrose':'sucrose_range','glucose': 'count_of_types'})"
   ],
   "metadata": {
    "collapsed": false,
    "pycharm": {
     "name": "#%%\n"
    }
   }
  },
  {
   "cell_type": "code",
   "execution_count": null,
   "outputs": [],
   "source": [],
   "metadata": {
    "collapsed": false,
    "pycharm": {
     "name": "#%%\n"
    }
   }
  }
 ],
 "metadata": {
  "kernelspec": {
   "display_name": "Python 3",
   "language": "python",
   "name": "python3"
  },
  "language_info": {
   "codemirror_mode": {
    "name": "ipython",
    "version": 2
   },
   "file_extension": ".py",
   "mimetype": "text/x-python",
   "name": "python",
   "nbconvert_exporter": "python",
   "pygments_lexer": "ipython2",
   "version": "2.7.6"
  }
 },
 "nbformat": 4,
 "nbformat_minor": 0
}