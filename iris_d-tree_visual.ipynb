{
 "cells": [
  {
   "cell_type": "code",
   "execution_count": 37,
   "outputs": [],
   "source": [
    "from sklearn import tree\n",
    "import pandas as pd\n",
    "import numpy as np\n",
    "import seaborn as sns\n",
    "import matplotlib.pyplot as plt\n",
    "%matplotlib inline"
   ],
   "metadata": {
    "collapsed": false,
    "pycharm": {
     "name": "#%%\n"
    }
   }
  },
  {
   "cell_type": "code",
   "execution_count": 38,
   "outputs": [],
   "source": [
    "train_iris = pd\\\n",
    "    .read_csv(\"https://stepik.org/media/attachments/course/4852/train_iris.csv\"\n",
    "              , index_col=0)\n",
    "test_iris = pd\\\n",
    "    .read_csv(\"https://stepik.org/media/attachments/course/4852/test_iris.csv\"\n",
    "              , index_col=0)"
   ],
   "metadata": {
    "collapsed": false,
    "pycharm": {
     "name": "#%%\n"
    }
   }
  },
  {
   "cell_type": "code",
   "execution_count": 39,
   "outputs": [],
   "source": [
    "X_train = train_iris.drop([\"species\"], axis=1)\n",
    "y_train = train_iris.species\n",
    "\n",
    "X_test = test_iris.drop([\"species\"], axis=1)\n",
    "y_test = test_iris.species\n",
    "\n",
    "scores_data = pd.DataFrame(columns={\"d\", \"test\", \"train\"});"
   ],
   "metadata": {
    "collapsed": false,
    "pycharm": {
     "name": "#%%\n"
    }
   }
  },
  {
   "cell_type": "code",
   "execution_count": 40,
   "outputs": [],
   "source": [
    "rs = np.random.seed(0)\n",
    "max_depth_values = range(1,100)"
   ],
   "metadata": {
    "collapsed": false,
    "pycharm": {
     "name": "#%%\n"
    }
   }
  },
  {
   "cell_type": "code",
   "execution_count": 41,
   "outputs": [],
   "source": [
    "for max_depth in max_depth_values:\n",
    "    clf = tree.DecisionTreeClassifier(criterion='entropy',\n",
    "                                      max_depth=max_depth,\n",
    "                                      random_state=rs)\n",
    "    clf.fit(X_train, y_train)\n",
    "    train_score = clf.score(X_train, y_train)\n",
    "    test_score = clf.score(X_test, y_test)\n",
    "\n",
    "    temp_score_data = \\\n",
    "    pd.DataFrame({'d': [max_depth],\n",
    "                  'test': [test_score],\n",
    "                  'train': [train_score]})\n",
    "    scores_data = scores_data.append(temp_score_data, sort=True)"
   ],
   "metadata": {
    "collapsed": false,
    "pycharm": {
     "name": "#%%\n"
    }
   }
  },
  {
   "cell_type": "code",
   "execution_count": 42,
   "outputs": [
    {
     "data": {
      "text/plain": "     d  test  train\n0    1  0.60   0.70\n0    2  0.94   0.97\n0    3  0.94   0.99\n0    4  0.92   1.00\n0    5  0.92   1.00\n..  ..   ...    ...\n0   95  0.92   1.00\n0   96  0.92   1.00\n0   97  0.92   1.00\n0   98  0.94   1.00\n0   99  0.92   1.00\n\n[99 rows x 3 columns]",
      "text/html": "<div>\n<style scoped>\n    .dataframe tbody tr th:only-of-type {\n        vertical-align: middle;\n    }\n\n    .dataframe tbody tr th {\n        vertical-align: top;\n    }\n\n    .dataframe thead th {\n        text-align: right;\n    }\n</style>\n<table border=\"1\" class=\"dataframe\">\n  <thead>\n    <tr style=\"text-align: right;\">\n      <th></th>\n      <th>d</th>\n      <th>test</th>\n      <th>train</th>\n    </tr>\n  </thead>\n  <tbody>\n    <tr>\n      <th>0</th>\n      <td>1</td>\n      <td>0.60</td>\n      <td>0.70</td>\n    </tr>\n    <tr>\n      <th>0</th>\n      <td>2</td>\n      <td>0.94</td>\n      <td>0.97</td>\n    </tr>\n    <tr>\n      <th>0</th>\n      <td>3</td>\n      <td>0.94</td>\n      <td>0.99</td>\n    </tr>\n    <tr>\n      <th>0</th>\n      <td>4</td>\n      <td>0.92</td>\n      <td>1.00</td>\n    </tr>\n    <tr>\n      <th>0</th>\n      <td>5</td>\n      <td>0.92</td>\n      <td>1.00</td>\n    </tr>\n    <tr>\n      <th>...</th>\n      <td>...</td>\n      <td>...</td>\n      <td>...</td>\n    </tr>\n    <tr>\n      <th>0</th>\n      <td>95</td>\n      <td>0.92</td>\n      <td>1.00</td>\n    </tr>\n    <tr>\n      <th>0</th>\n      <td>96</td>\n      <td>0.92</td>\n      <td>1.00</td>\n    </tr>\n    <tr>\n      <th>0</th>\n      <td>97</td>\n      <td>0.92</td>\n      <td>1.00</td>\n    </tr>\n    <tr>\n      <th>0</th>\n      <td>98</td>\n      <td>0.94</td>\n      <td>1.00</td>\n    </tr>\n    <tr>\n      <th>0</th>\n      <td>99</td>\n      <td>0.92</td>\n      <td>1.00</td>\n    </tr>\n  </tbody>\n</table>\n<p>99 rows × 3 columns</p>\n</div>"
     },
     "execution_count": 42,
     "metadata": {},
     "output_type": "execute_result"
    }
   ],
   "source": [
    "scores_data"
   ],
   "metadata": {
    "collapsed": false,
    "pycharm": {
     "name": "#%%\n"
    }
   }
  },
  {
   "cell_type": "code",
   "execution_count": 43,
   "outputs": [],
   "source": [
    "scores_data_long = pd.melt(scores_data,\n",
    "                id_vars=['d'],\n",
    "                value_vars=['train', 'test'],\n",
    "                var_name='type',\n",
    "                value_name='score')"
   ],
   "metadata": {
    "collapsed": false,
    "pycharm": {
     "name": "#%%\n"
    }
   }
  },
  {
   "cell_type": "code",
   "execution_count": 45,
   "outputs": [
    {
     "data": {
      "text/plain": "<AxesSubplot:xlabel='d', ylabel='score'>"
     },
     "execution_count": 45,
     "metadata": {},
     "output_type": "execute_result"
    },
    {
     "data": {
      "text/plain": "<Figure size 1152x432 with 1 Axes>",
      "image/png": "[encoded data removed]"
     },
     "metadata": {
      "needs_background": "light"
     },
     "output_type": "display_data"
    }
   ],
   "source": [
    "plt.figure(figsize=(16, 6))\n",
    "sns.lineplot(x=\"d\", y=\"score\", hue=\"type\", data=scores_data_long)"
   ],
   "metadata": {
    "collapsed": false,
    "pycharm": {
     "name": "#%%\n"
    }
   }
  },
  {
   "cell_type": "code",
   "execution_count": null,
   "outputs": [],
   "source": [],
   "metadata": {
    "collapsed": false,
    "pycharm": {
     "name": "#%%\n"
    }
   }
  }
 ],
 "metadata": {
  "kernelspec": {
   "display_name": "Python 3",
   "language": "python",
   "name": "python3"
  },
  "language_info": {
   "codemirror_mode": {
    "name": "ipython",
    "version": 2
   },
   "file_extension": ".py",
   "mimetype": "text/x-python",
   "name": "python",
   "nbconvert_exporter": "python",
   "pygments_lexer": "ipython2",
   "version": "2.7.6"
  }
 },
 "nbformat": 4,
 "nbformat_minor": 0
}