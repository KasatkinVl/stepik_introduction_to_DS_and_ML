{
 "cells": [
  {
   "cell_type": "code",
   "execution_count": 1,
   "outputs": [],
   "source": [
    "import pandas as pd\n",
    "from sklearn.ensemble import RandomForestClassifier\n",
    "from sklearn.model_selection import GridSearchCV\n",
    "import seaborn as sns\n",
    "from sklearn.metrics import confusion_matrix"
   ],
   "metadata": {
    "collapsed": false,
    "pycharm": {
     "name": "#%%\n"
    }
   }
  },
  {
   "cell_type": "code",
   "execution_count": 10,
   "outputs": [],
   "source": [
    "invasion = pd.read_csv('https://stepik.org/media/attachments/course/4852/invasion.csv')"
   ],
   "metadata": {
    "collapsed": false,
    "pycharm": {
     "name": "#%%\n"
    }
   }
  },
  {
   "cell_type": "code",
   "execution_count": 11,
   "outputs": [
    {
     "data": {
      "text/plain": "         class  g_reflection  i_reflection       speed  brightness  \\\n0    transport      2.190672      6.716633   62.168208    0.347465   \n1    transport      3.453276      8.995909   62.994707    0.590094   \n2    transport      2.432994      6.938691   62.245807    0.329288   \n3      fighter      6.083763      3.019459   18.474555    0.174738   \n4      fighter     12.876769      2.452950  195.805771    0.150446   \n..         ...           ...           ...         ...         ...   \n495    fighter      9.901731      7.162124   58.095069    0.145065   \n496  transport      3.574132      7.118835   62.928159    0.469670   \n497    fighter      9.186049      4.580781  412.102112    0.108195   \n498    fighter      8.278256      8.353756  268.121561    0.132661   \n499  transport      0.860820      8.014988   62.292486    0.304896   \n\n     time_of_observance     volume  \n0                158221  44.932446  \n1                385972  41.568300  \n2                446482  40.123467  \n3                210125  11.384865  \n4                 23109  11.328806  \n..                  ...        ...  \n495              395762  12.901909  \n496              435926  39.926551  \n497              299594  12.178203  \n498              361911  13.905809  \n499              364601  46.151972  \n\n[500 rows x 7 columns]",
      "text/html": "<div>\n<style scoped>\n    .dataframe tbody tr th:only-of-type {\n        vertical-align: middle;\n    }\n\n    .dataframe tbody tr th {\n        vertical-align: top;\n    }\n\n    .dataframe thead th {\n        text-align: right;\n    }\n</style>\n<table border=\"1\" class=\"dataframe\">\n  <thead>\n    <tr style=\"text-align: right;\">\n      <th></th>\n      <th>class</th>\n      <th>g_reflection</th>\n      <th>i_reflection</th>\n      <th>speed</th>\n      <th>brightness</th>\n      <th>time_of_observance</th>\n      <th>volume</th>\n    </tr>\n  </thead>\n  <tbody>\n    <tr>\n      <th>0</th>\n      <td>transport</td>\n      <td>2.190672</td>\n      <td>6.716633</td>\n      <td>62.168208</td>\n      <td>0.347465</td>\n      <td>158221</td>\n      <td>44.932446</td>\n    </tr>\n    <tr>\n      <th>1</th>\n      <td>transport</td>\n      <td>3.453276</td>\n      <td>8.995909</td>\n      <td>62.994707</td>\n      <td>0.590094</td>\n      <td>385972</td>\n      <td>41.568300</td>\n    </tr>\n    <tr>\n      <th>2</th>\n      <td>transport</td>\n      <td>2.432994</td>\n      <td>6.938691</td>\n      <td>62.245807</td>\n      <td>0.329288</td>\n      <td>446482</td>\n      <td>40.123467</td>\n    </tr>\n    <tr>\n      <th>3</th>\n      <td>fighter</td>\n      <td>6.083763</td>\n      <td>3.019459</td>\n      <td>18.474555</td>\n      <td>0.174738</td>\n      <td>210125</td>\n      <td>11.384865</td>\n    </tr>\n    <tr>\n      <th>4</th>\n      <td>fighter</td>\n      <td>12.876769</td>\n      <td>2.452950</td>\n      <td>195.805771</td>\n      <td>0.150446</td>\n      <td>23109</td>\n      <td>11.328806</td>\n    </tr>\n    <tr>\n      <th>...</th>\n      <td>...</td>\n      <td>...</td>\n      <td>...</td>\n      <td>...</td>\n      <td>...</td>\n      <td>...</td>\n      <td>...</td>\n    </tr>\n    <tr>\n      <th>495</th>\n      <td>fighter</td>\n      <td>9.901731</td>\n      <td>7.162124</td>\n      <td>58.095069</td>\n      <td>0.145065</td>\n      <td>395762</td>\n      <td>12.901909</td>\n    </tr>\n    <tr>\n      <th>496</th>\n      <td>transport</td>\n      <td>3.574132</td>\n      <td>7.118835</td>\n      <td>62.928159</td>\n      <td>0.469670</td>\n      <td>435926</td>\n      <td>39.926551</td>\n    </tr>\n    <tr>\n      <th>497</th>\n      <td>fighter</td>\n      <td>9.186049</td>\n      <td>4.580781</td>\n      <td>412.102112</td>\n      <td>0.108195</td>\n      <td>299594</td>\n      <td>12.178203</td>\n    </tr>\n    <tr>\n      <th>498</th>\n      <td>fighter</td>\n      <td>8.278256</td>\n      <td>8.353756</td>\n      <td>268.121561</td>\n      <td>0.132661</td>\n      <td>361911</td>\n      <td>13.905809</td>\n    </tr>\n    <tr>\n      <th>499</th>\n      <td>transport</td>\n      <td>0.860820</td>\n      <td>8.014988</td>\n      <td>62.292486</td>\n      <td>0.304896</td>\n      <td>364601</td>\n      <td>46.151972</td>\n    </tr>\n  </tbody>\n</table>\n<p>500 rows × 7 columns</p>\n</div>"
     },
     "execution_count": 11,
     "metadata": {},
     "output_type": "execute_result"
    }
   ],
   "source": [
    "invasion\n"
   ],
   "metadata": {
    "collapsed": false,
    "pycharm": {
     "name": "#%%\n"
    }
   }
  },
  {
   "cell_type": "code",
   "execution_count": 12,
   "outputs": [],
   "source": [
    "X = invasion.drop(['class'], axis=1)\n",
    "y = invasion['class']"
   ],
   "metadata": {
    "collapsed": false,
    "pycharm": {
     "name": "#%%\n"
    }
   }
  },
  {
   "cell_type": "code",
   "execution_count": 13,
   "outputs": [
    {
     "data": {
      "text/plain": "0      transport\n1      transport\n2      transport\n3        fighter\n4        fighter\n         ...    \n495      fighter\n496    transport\n497      fighter\n498      fighter\n499    transport\nName: class, Length: 500, dtype: object"
     },
     "execution_count": 13,
     "metadata": {},
     "output_type": "execute_result"
    }
   ],
   "source": [
    "y"
   ],
   "metadata": {
    "collapsed": false,
    "pycharm": {
     "name": "#%%\n"
    }
   }
  },
  {
   "cell_type": "code",
   "execution_count": 9,
   "outputs": [],
   "source": [
    "# transport = {'transport' :  0,  'fighter' :  1,  'cruiser' : 2}\n",
    "# y = invasion['class'].map(transport)"
   ],
   "metadata": {
    "collapsed": false,
    "pycharm": {
     "name": "#%%\n"
    }
   }
  },
  {
   "cell_type": "code",
   "execution_count": 14,
   "outputs": [],
   "source": [
    "clf_rf = RandomForestClassifier(random_state=0)\n",
    "parametrs = {'n_estimators': range(10, 51, 10),\n",
    "             'max_depth': range(1, 13, 2),\n",
    "             'min_samples_leaf':range(1, 8),\n",
    "             'min_samples_split':range(2, 10, 2)\n",
    "             }\n",
    "\n",
    "grid_search_cv_clf_rf = GridSearchCV(clf_rf, parametrs, cv=3, n_jobs=-1)"
   ],
   "metadata": {
    "collapsed": false,
    "pycharm": {
     "name": "#%%\n"
    }
   }
  },
  {
   "cell_type": "code",
   "execution_count": 15,
   "outputs": [
    {
     "data": {
      "text/plain": "GridSearchCV(cv=3, estimator=RandomForestClassifier(random_state=0), n_jobs=-1,\n             param_grid={'max_depth': range(1, 13, 2),\n                         'min_samples_leaf': range(1, 8),\n                         'min_samples_split': range(2, 10, 2),\n                         'n_estimators': range(10, 51, 10)})"
     },
     "execution_count": 15,
     "metadata": {},
     "output_type": "execute_result"
    }
   ],
   "source": [
    "grid_search_cv_clf_rf.fit(X, y)\n"
   ],
   "metadata": {
    "collapsed": false,
    "pycharm": {
     "name": "#%%\n"
    }
   }
  },
  {
   "cell_type": "code",
   "execution_count": null,
   "outputs": [],
   "source": [
    "grid_search_cv_clf_rf.best_params_"
   ],
   "metadata": {
    "collapsed": false,
    "pycharm": {
     "name": "#%%\n"
    }
   }
  },
  {
   "cell_type": "code",
   "execution_count": 16,
   "outputs": [],
   "source": [
    "best_clf = grid_search_cv_clf_rf.best_estimator_"
   ],
   "metadata": {
    "collapsed": false,
    "pycharm": {
     "name": "#%%\n"
    }
   }
  },
  {
   "cell_type": "code",
   "execution_count": null,
   "outputs": [],
   "source": [],
   "metadata": {
    "collapsed": false,
    "pycharm": {
     "name": "#%%\n"
    }
   }
  },
  {
   "cell_type": "code",
   "execution_count": 4,
   "outputs": [],
   "source": [
    "operative_information = pd.read_csv('https://stepik.org/media/attachments/course/4852/operative_information.csv')"
   ],
   "metadata": {
    "collapsed": false,
    "pycharm": {
     "name": "#%%\n"
    }
   }
  },
  {
   "cell_type": "code",
   "execution_count": 5,
   "outputs": [
    {
     "data": {
      "text/plain": "      g_reflection  i_reflection       speed  brightness  time_of_observance  \\\n0         7.516543      3.916691  513.954279    0.177247              105908   \n1         4.322988      6.967689   63.752970    0.545922              277855   \n2         4.595724      9.098297   62.233948    0.389201              160662   \n3         2.689675      7.964869   62.475495    0.541081              162092   \n4         8.075576      5.169719  336.441261    0.174757              466853   \n...            ...           ...         ...         ...                 ...   \n1495     11.755466      5.583147  325.069957    0.170644              388400   \n1496     12.220137      4.023177  439.975574    0.163958              195305   \n1497      1.611053      7.864930   65.025106    0.430021              307856   \n1498      7.114131      5.532188  391.178342    0.150117               51590   \n1499      3.804275      8.038047   62.345396    0.564630               97284   \n\n         volume  \n0     13.267224  \n1     39.833130  \n2     42.014556  \n3     42.056829  \n4     11.779813  \n...         ...  \n1495  13.210917  \n1496  13.819358  \n1497  47.369083  \n1498  12.447761  \n1499  44.671211  \n\n[1500 rows x 6 columns]",
      "text/html": "<div>\n<style scoped>\n    .dataframe tbody tr th:only-of-type {\n        vertical-align: middle;\n    }\n\n    .dataframe tbody tr th {\n        vertical-align: top;\n    }\n\n    .dataframe thead th {\n        text-align: right;\n    }\n</style>\n<table border=\"1\" class=\"dataframe\">\n  <thead>\n    <tr style=\"text-align: right;\">\n      <th></th>\n      <th>g_reflection</th>\n      <th>i_reflection</th>\n      <th>speed</th>\n      <th>brightness</th>\n      <th>time_of_observance</th>\n      <th>volume</th>\n    </tr>\n  </thead>\n  <tbody>\n    <tr>\n      <th>0</th>\n      <td>7.516543</td>\n      <td>3.916691</td>\n      <td>513.954279</td>\n      <td>0.177247</td>\n      <td>105908</td>\n      <td>13.267224</td>\n    </tr>\n    <tr>\n      <th>1</th>\n      <td>4.322988</td>\n      <td>6.967689</td>\n      <td>63.752970</td>\n      <td>0.545922</td>\n      <td>277855</td>\n      <td>39.833130</td>\n    </tr>\n    <tr>\n      <th>2</th>\n      <td>4.595724</td>\n      <td>9.098297</td>\n      <td>62.233948</td>\n      <td>0.389201</td>\n      <td>160662</td>\n      <td>42.014556</td>\n    </tr>\n    <tr>\n      <th>3</th>\n      <td>2.689675</td>\n      <td>7.964869</td>\n      <td>62.475495</td>\n      <td>0.541081</td>\n      <td>162092</td>\n      <td>42.056829</td>\n    </tr>\n    <tr>\n      <th>4</th>\n      <td>8.075576</td>\n      <td>5.169719</td>\n      <td>336.441261</td>\n      <td>0.174757</td>\n      <td>466853</td>\n      <td>11.779813</td>\n    </tr>\n    <tr>\n      <th>...</th>\n      <td>...</td>\n      <td>...</td>\n      <td>...</td>\n      <td>...</td>\n      <td>...</td>\n      <td>...</td>\n    </tr>\n    <tr>\n      <th>1495</th>\n      <td>11.755466</td>\n      <td>5.583147</td>\n      <td>325.069957</td>\n      <td>0.170644</td>\n      <td>388400</td>\n      <td>13.210917</td>\n    </tr>\n    <tr>\n      <th>1496</th>\n      <td>12.220137</td>\n      <td>4.023177</td>\n      <td>439.975574</td>\n      <td>0.163958</td>\n      <td>195305</td>\n      <td>13.819358</td>\n    </tr>\n    <tr>\n      <th>1497</th>\n      <td>1.611053</td>\n      <td>7.864930</td>\n      <td>65.025106</td>\n      <td>0.430021</td>\n      <td>307856</td>\n      <td>47.369083</td>\n    </tr>\n    <tr>\n      <th>1498</th>\n      <td>7.114131</td>\n      <td>5.532188</td>\n      <td>391.178342</td>\n      <td>0.150117</td>\n      <td>51590</td>\n      <td>12.447761</td>\n    </tr>\n    <tr>\n      <th>1499</th>\n      <td>3.804275</td>\n      <td>8.038047</td>\n      <td>62.345396</td>\n      <td>0.564630</td>\n      <td>97284</td>\n      <td>44.671211</td>\n    </tr>\n  </tbody>\n</table>\n<p>1500 rows × 6 columns</p>\n</div>"
     },
     "execution_count": 5,
     "metadata": {},
     "output_type": "execute_result"
    }
   ],
   "source": [
    "operative_information"
   ],
   "metadata": {
    "collapsed": false,
    "pycharm": {
     "name": "#%%\n"
    }
   }
  },
  {
   "cell_type": "code",
   "execution_count": 17,
   "outputs": [],
   "source": [
    "y_pred = best_clf.predict(operative_information)"
   ],
   "metadata": {
    "collapsed": false,
    "pycharm": {
     "name": "#%%\n"
    }
   }
  },
  {
   "cell_type": "code",
   "execution_count": 18,
   "outputs": [
    {
     "data": {
      "text/plain": "array(['fighter', 'transport', 'transport', ..., 'transport', 'fighter',\n       'transport'], dtype=object)"
     },
     "execution_count": 18,
     "metadata": {},
     "output_type": "execute_result"
    }
   ],
   "source": [
    "y_pred"
   ],
   "metadata": {
    "collapsed": false,
    "pycharm": {
     "name": "#%%\n"
    }
   }
  },
  {
   "cell_type": "code",
   "execution_count": 19,
   "outputs": [
    {
     "data": {
      "text/plain": "fighter      675\ntransport    595\ncruiser      230\ndtype: int64"
     },
     "execution_count": 19,
     "metadata": {},
     "output_type": "execute_result"
    }
   ],
   "source": [
    "pd.Series(y_pred).value_counts()\n"
   ],
   "metadata": {
    "collapsed": false,
    "pycharm": {
     "name": "#%%\n"
    }
   }
  },
  {
   "cell_type": "code",
   "execution_count": null,
   "outputs": [],
   "source": [],
   "metadata": {
    "collapsed": false,
    "pycharm": {
     "name": "#%%\n"
    }
   }
  }
 ],
 "metadata": {
  "kernelspec": {
   "display_name": "Python 3",
   "language": "python",
   "name": "python3"
  },
  "language_info": {
   "codemirror_mode": {
    "name": "ipython",
    "version": 2
   },
   "file_extension": ".py",
   "mimetype": "text/x-python",
   "name": "python",
   "nbconvert_exporter": "python",
   "pygments_lexer": "ipython2",
   "version": "2.7.6"
  }
 },
 "nbformat": 4,
 "nbformat_minor": 0
}